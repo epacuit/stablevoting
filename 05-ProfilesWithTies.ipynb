{
 "cells": [
  {
   "cell_type": "markdown",
   "metadata": {},
   "source": [
    "# ProfilesWithTies\n",
    "\n",
    "Code for generating profile in which voters submit strict weak orders. "
   ]
  },
  {
   "cell_type": "code",
   "execution_count": 14,
   "metadata": {},
   "outputs": [],
   "source": [
    "# import the Profile class\n",
    "\n",
    "from voting.profiles import Profile\n",
    "from voting.profiles_with_ties import *\n",
    "import signal\n",
    "\n",
    "# import the voting methods\n",
    "\n",
    "from voting.voting_methods import *\n",
    "\n",
    "import math\n",
    "import random\n",
    "import pandas as pd\n",
    "from itertools import product, combinations\n",
    "\n",
    "from functools import partial\n",
    "from multiprocess import Pool, cpu_count\n",
    "import pickle\n",
    "import timeit\n",
    "\n",
    "\n",
    "import copy\n",
    "import matplotlib.pyplot as plt\n",
    "import seaborn as sns\n",
    "import os\n",
    "sns.set()\n",
    "\n"
   ]
  },
  {
   "cell_type": "code",
   "execution_count": 15,
   "metadata": {},
   "outputs": [
    {
     "name": "stdout",
     "output_type": "stream",
     "text": [
      "+-------+-----+---+-----+-------+-----+-----+-----+\n",
      "|   1   |  2  | 1 |  4  |   1   |  2  |  1  |  1  |\n",
      "+-------+-----+---+-----+-------+-----+-----+-----+\n",
      "| a b c |  a  | a | a b | a b c | a b | a c | c b |\n",
      "|       | b c | b |  c  |       |  c  |  b  |  a  |\n",
      "|       |     | c |     |       |     |     |     |\n",
      "+-------+-----+---+-----+-------+-----+-----+-----+\n",
      "\n",
      "\n",
      "\n",
      "(abc) 1\n",
      "a(bc) 2\n",
      "abc 1\n",
      "(ab)c 4\n",
      "(abc) 1\n",
      "(ab)c 2\n",
      "(ac)b 1\n",
      "(cb)a 1\n",
      "\n",
      "\n",
      "support(a, b) = 4\n",
      "support(a, a) = 0\n",
      "support(b, a) = 1\n",
      "support(a, c) = 9\n",
      "support(c, a) = 1\n",
      "support(b, c) = 7\n",
      "support(c, b) = 1\n",
      "\n",
      "\n",
      "margin(a, b) = 3\n",
      "margin(a, a) = 0\n",
      "margin(b, a) = -3\n",
      "margin(a, c) = 8\n",
      "margin(c, a) = -8\n",
      "margin(b, c) = 6\n",
      "margin(c, b) = -6\n",
      "\n",
      "\n",
      "ratio(a, b) = 4.0\n",
      "ratio(a, a) = 1\n",
      "ratio(b, a) = 0.25\n",
      "ratio(a, c) = 9.0\n",
      "ratio(c, a) = 0.1111111111111111\n",
      "ratio(b, c) = 7.0\n",
      "ratio(c, b) = 0.14285714285714285\n"
     ]
    },
    {
     "data": {
      "image/png": "[encoded data removed]",
      "text/plain": [
       "<Figure size 432x288 with 1 Axes>"
      ]
     },
     "metadata": {},
     "output_type": "display_data"
    },
    {
     "name": "stdout",
     "output_type": "stream",
     "text": [
      "+-----+---+---+---+-----+---+-----+---+\n",
      "|  1  | 2 | 1 | 4 |  1  | 2 |  1  | 1 |\n",
      "+-----+---+---+---+-----+---+-----+---+\n",
      "| a c | a | a | a | a c | a | a c | c |\n",
      "|     | c |   | c |     | c |     | a |\n",
      "+-----+---+---+---+-----+---+-----+---+\n",
      "{'a': 1, 'c': 1}\n",
      "{'a': 1, 'c': 2}\n",
      "{'a': 1, 'c': 3}\n",
      "{'a': 1, 'c': 2}\n",
      "{'a': 1, 'c': 1}\n",
      "{'a': 1, 'c': 2}\n",
      "{'a': 1, 'c': 1}\n",
      "{'c': 1, 'a': 2}\n"
     ]
    }
   ],
   "source": [
    "\n",
    "a=\"a\"\n",
    "b=\"b\"\n",
    "c=\"c\"\n",
    "\n",
    "cmap = {\n",
    "    a:\"a\", \n",
    "    b:\"b\", \n",
    "    c:\"c\"\n",
    "}\n",
    "\n",
    "\n",
    "rankings = [\n",
    "    {a:1, b:1, c:1},\n",
    "    {a:1, b:2, c:2},\n",
    "    {a:1, b:2, c:3},\n",
    "    {a:1, b:1, c:2},\n",
    "    {a:1, b:1, c:1},\n",
    "    {a:1, b:1, c:2},\n",
    "    {a:1, c:1, b:2},\n",
    "    {c:1, b:1, a:2}\n",
    "]\n",
    "rcounts = [1, 2, 1, 4, 1, 2, 1, 1]\n",
    "num_cands = 3\n",
    "prof = ProfileWithTies(rankings, num_cands, rcounts=rcounts)\n",
    "\n",
    "\n",
    "prof.display()\n",
    "\n",
    "\n",
    "print(\"\\n\\n\")\n",
    "for r,n in zip(prof.rankings,rcounts):\n",
    "    print(r, n)\n",
    "\n",
    "print(\"\\n\")\n",
    "print(f\"support(a, b) = {prof.support(a, b)}\")\n",
    "print(f\"support(a, a) = {prof.support(a, a)}\")\n",
    "print(f\"support(b, a) = {prof.support(b, a)}\")\n",
    "print(f\"support(a, c) = {prof.support(a, c)}\")\n",
    "print(f\"support(c, a) = {prof.support(c, a)}\")\n",
    "print(f\"support(b, c) = {prof.support(b, c)}\")\n",
    "print(f\"support(c, b) = {prof.support(c, b)}\")\n",
    "\n",
    "print(\"\\n\")\n",
    "print(f\"margin(a, b) = {prof.margin(a, b)}\")\n",
    "print(f\"margin(a, a) = {prof.margin(a, a)}\")\n",
    "print(f\"margin(b, a) = {prof.margin(b, a)}\")\n",
    "print(f\"margin(a, c) = {prof.margin(a, c)}\")\n",
    "print(f\"margin(c, a) = {prof.margin(c, a)}\")\n",
    "print(f\"margin(b, c) = {prof.margin(b, c)}\")\n",
    "print(f\"margin(c, b) = {prof.margin(c, b)}\")\n",
    "\n",
    "\n",
    "print(\"\\n\")\n",
    "print(f\"ratio(a, b) = {prof.ratio(a, b)}\")\n",
    "print(f\"ratio(a, a) = {prof.ratio(a, a)}\")\n",
    "print(f\"ratio(b, a) = {prof.ratio(b, a)}\")\n",
    "print(f\"ratio(a, c) = {prof.ratio(a, c)}\")\n",
    "print(f\"ratio(c, a) = {prof.ratio(c, a)}\")\n",
    "print(f\"ratio(b, c) = {prof.ratio(b, c)}\")\n",
    "print(f\"ratio(c, b) = {prof.ratio(c, b)}\")\n",
    "\n",
    "prof.display_margin_graph()\n",
    "\n",
    "\n",
    "prof_minus, _ = prof.remove_candidates([b])\n",
    "\n",
    "prof_minus.display()\n",
    "\n",
    "for r in prof_minus.rankings: \n",
    "    print(r.rmap)"
   ]
  },
  {
   "cell_type": "code",
   "execution_count": null,
   "metadata": {},
   "outputs": [],
   "source": []
  }
 ],
 "metadata": {
  "@webio": {
   "lastCommId": null,
   "lastKernelId": null
  },
  "kernelspec": {
   "display_name": "Python 3",
   "language": "python",
   "name": "python3"
  },
  "language_info": {
   "codemirror_mode": {
    "name": "ipython",
    "version": 3
   },
   "file_extension": ".py",
   "mimetype": "text/x-python",
   "name": "python",
   "nbconvert_exporter": "python",
   "pygments_lexer": "ipython3",
   "version": "3.8.5"
  },
  "varInspector": {
   "cols": {
    "lenName": 16,
    "lenType": 16,
    "lenVar": 40
   },
   "kernels_config": {
    "python": {
     "delete_cmd_postfix": "",
     "delete_cmd_prefix": "del ",
     "library": "var_list.py",
     "varRefreshCmd": "print(var_dic_list())"
    },
    "r": {
     "delete_cmd_postfix": ") ",
     "delete_cmd_prefix": "rm(",
     "library": "var_list.r",
     "varRefreshCmd": "cat(var_dic_list()) "
    }
   },
   "types_to_exclude": [
    "module",
    "function",
    "builtin_function_or_method",
    "instance",
    "_Feature"
   ],
   "window_display": false
  }
 },
 "nbformat": 4,
 "nbformat_minor": 4
}
