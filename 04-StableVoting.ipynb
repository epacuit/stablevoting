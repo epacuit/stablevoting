{
 "cells": [
  {
   "cell_type": "markdown",
   "metadata": {},
   "source": [
    "# Stable Voting\n",
    "\n",
    "Implementation of Simple Stable Voting and Stable Voting from the paper [Stable Voting](https://arxiv.org/abs/2108.00542) by W. Holliday and E. Pacuit.  "
   ]
  },
  {
   "cell_type": "code",
   "execution_count": 31,
   "metadata": {},
   "outputs": [],
   "source": [
    "# import the Profile class\n",
    "from voting.profiles import *\n",
    "\n",
    "# import the voting methods\n",
    "from voting.voting_methods import *\n",
    "\n",
    "from voting.generate_profiles import *\n",
    "import math\n",
    "import pandas as pd\n",
    "from itertools import product, combinations\n",
    "\n",
    "from functools import partial\n",
    "from multiprocess import Pool, cpu_count\n",
    "import pickle\n",
    "import timeit\n",
    "\n",
    "import copy\n",
    "import matplotlib.pyplot as plt\n",
    "import seaborn as sns\n",
    "import os\n",
    "sns.set()\n"
   ]
  },
  {
   "cell_type": "code",
   "execution_count": 32,
   "metadata": {},
   "outputs": [],
   "source": [
    "def display_mg(mg): \n",
    "    \n",
    "    pos = nx.circular_layout(mg)\n",
    "    nx.draw(mg, pos, \n",
    "            font_size=20, font_color='white', node_size=700, \n",
    "            width=1.5, with_labels=True)\n",
    "    labels = nx.get_edge_attributes(mg,'weight')\n",
    "    nx.draw_networkx_edge_labels(mg,pos,edge_labels=labels, font_size=14, label_pos=0.3)\n",
    "    plt.show()\n"
   ]
  },
  {
   "cell_type": "markdown",
   "metadata": {},
   "source": [
    "### Simple Stable Voting \n",
    "\n",
    "Simple Stable Voting selects a winner as follows:\n",
    "\n",
    "1. If only one candidate $a$ appears on all ballots, then $a$ wins.\n",
    "2. Otherwise list all head-to-head matches of the form $a$ vs. $b$ in order from the largest to smallest margin of $a$ vs. $b$. Find the first match $a$ vs. $b$ in the list such that $a$ wins according to Simple Stable Voting *after $b$ is removed from all ballots*; this $a$ is the winner for the original set of ballots.  \n",
    "\n",
    "Note that if there are two matches $a$ vs. $b$ and $a'$ vs. $b'$ with the same margins such that $a$ wins after $b$ is removed from the ballots, and $a'$ wins after $b'$ is removed from the ballots, then $a$ and $a'$ are tied Simple Stable Voting winners for the original set of ballots.\n"
   ]
  },
  {
   "cell_type": "code",
   "execution_count": 33,
   "metadata": {},
   "outputs": [],
   "source": [
    "# This code is available in voting/voting_methods.py but is included here for reference. \n",
    "\n",
    "def simple_stable_voting_(profile, curr_cands = None, mem_sv_winners = {}): \n",
    "    '''\n",
    "    Determine the Simple Stable Voting winners for the profile while keeping track \n",
    "    of the winners in any subprofiles checked during computation. \n",
    "    '''\n",
    "    \n",
    "    # curr_cands is the set of candidates who have not been removed\n",
    "    curr_cands = curr_cands if not curr_cands is None else profile.candidates\n",
    "    sv_winners = list()\n",
    "    \n",
    "    matches = [(a, b) for a in curr_cands for b in curr_cands if a != b]\n",
    "    margins = list(set([profile.margin(a, b) for a,b in matches]))\n",
    "        \n",
    "    if len(curr_cands) == 1: \n",
    "        mem_sv_winners[tuple(curr_cands)] = curr_cands\n",
    "        return curr_cands, mem_sv_winners\n",
    "    for m in sorted(margins, reverse=True):\n",
    "        for a, b in [ab_match for ab_match in matches \n",
    "                     if profile.margin(ab_match[0], ab_match[1])  == m]:\n",
    "            if a not in sv_winners: \n",
    "                cands_minus_b = sorted([c for c in curr_cands if c!= b])\n",
    "                if tuple(cands_minus_b) not in mem_sv_winners.keys(): \n",
    "                    ws, mem_sv_winners = simple_stable_voting_(profile, \n",
    "                                                               curr_cands = [c for c in curr_cands if c != b],\n",
    "                                                               mem_sv_winners = mem_sv_winners)\n",
    "                    mem_sv_winners[tuple(cands_minus_b)] = ws\n",
    "                else: \n",
    "                    ws = mem_sv_winners[tuple(cands_minus_b)]\n",
    "                if a in ws:\n",
    "                    sv_winners.append(a)\n",
    "        if len(sv_winners) > 0: \n",
    "            return sorted(sv_winners), mem_sv_winners\n",
    "        \n",
    "@vm_name(\"Simple Stable Voting\")\n",
    "def simple_stable_voting(profile): \n",
    "    \n",
    "    return simple_stable_voting_(profile, curr_cands = None, mem_sv_winners = {})[0]\n"
   ]
  },
  {
   "cell_type": "markdown",
   "metadata": {},
   "source": [
    "### Stable Voting\n",
    "\n",
    "Stable Voting is analogously to Simple Stable Voting:\n",
    "\n",
    "1. If there is only one undefeated candidate  $a$, then $a$ wins.\n",
    "2. Otherwise list all head-to-head matches of the form $a$ vs. $b$ in order from the largest to smallest margin of $a$ vs. $b$, where $a$ is undefeated. Find the first match $a$ vs. $b$ in the list such that $a$ wins according to  Stable Voting *after $b$ is removed from all ballots*; this $a$ is the winner for the original set of ballots.  \n",
    "\n",
    "We say that $b$ *does not defeat* $a$ if we can make a list of candidates starting with $a$ and ending with $b$ such that the margin of each candidate vs. the next candidate in the list is at least the margin of $b$ vs. $a$; if there is no such list, then $b$ defeats $a$; and $a$ is undefeated if there is no $b$ that defeats $a$ (this notion of defeat is defended at length in [Axioms for Defeat in Democratic Elections](https://arxiv.org/abs/2008.08451)). \n"
   ]
  },
  {
   "cell_type": "code",
   "execution_count": 41,
   "metadata": {},
   "outputs": [],
   "source": [
    "def find_undefeated_candidates(profile, curr_cands = None):   \n",
    "    \"\"\"\n",
    "    A path from candidate a to candidate b is a list of candidates starting with a and ending with b \n",
    "    such that each candidate in the list has a nonzero margin vs. the next candidate in the list. \n",
    "    The strength of a path is the minimum margin between consecutive candidates in the path \n",
    "    The strength of the pair of candidates (a,b) is strength of the strongest path from a to b.   \n",
    "    We find these strengths using the Floyd-Warshall Algorithm.   \n",
    "    \n",
    "    A candidate c is undefeated if for all candidates d that is majority preferred to d, \n",
    "    the margin of c over d is greater than the strength of d to c. \n",
    "    \n",
    "    Note that this is an implementation of the Split Cycle voting method. \n",
    "    \"\"\"\n",
    "    curr_cands = curr_cands if curr_cands is not None else profile.candidates\n",
    "    mg = [[-np.inf for _ in curr_cands] for _ in curr_cands]\n",
    "    \n",
    "    for c1_idx,c1 in enumerate(curr_cands):\n",
    "        for c2_idx,c2 in enumerate(curr_cands):\n",
    "            if (profile.support(c1,c2) > profile.support(c2,c1) or c1 == c2):\n",
    "                mg[c1_idx][c2_idx] = profile.support(c1,c2) - profile.support(c2,c1)    \n",
    "    strength = list(map(lambda i : list(map(lambda j : j , i)) , mg))\n",
    "    for i_idx, i in enumerate(curr_cands):         \n",
    "        for j_idx, j in enumerate(curr_cands): \n",
    "            if i!= j:\n",
    "                for k_idx, k in enumerate(curr_cands): \n",
    "                    if i!= k and j != k:\n",
    "                        strength[j_idx][k_idx] = max(strength[j_idx][k_idx], min(strength[j_idx][i_idx],strength[i_idx][k_idx]))\n",
    "    undefeated = {i:True for i in curr_cands}\n",
    "    for i_idx, i in enumerate(curr_cands): \n",
    "        for j_idx,j in enumerate(curr_cands):\n",
    "            if i!=j:\n",
    "                if mg[j_idx][i_idx] > strength[i_idx][j_idx]: # the main difference with Beat Path\n",
    "                    undefeated[i] = False\n",
    "    return sorted([c for c in curr_cands if undefeated[c]])\n",
    "\n",
    "\n",
    "def stable_voting_(profile, curr_cands = None, mem_sv_winners = {}): \n",
    "    '''\n",
    "    Determine the Stable Voting winners for the profile while keeping track \n",
    "    of the winners in any subprofiles checked during computation. \n",
    "    '''\n",
    "    \n",
    "    # curr_cands is the set of candidates who have not been removed\n",
    "    curr_cands = curr_cands if not curr_cands is None else profile.candidates\n",
    "    sv_winners = list()\n",
    "    \n",
    "    undefeated_candidates = find_undefeated_candidates(profile, curr_cands = curr_cands)\n",
    "    matches = [(a, b) for a in curr_cands for b in curr_cands if a != b if a in undefeated_candidates]\n",
    "    margins = list(set([profile.margin(a, b) for a,b in matches]))\n",
    "        \n",
    "    if len(undefeated_candidates) == 1: \n",
    "        mem_sv_winners[tuple(curr_cands)] = curr_cands\n",
    "        return curr_cands, mem_sv_winners\n",
    "    for m in sorted(margins, reverse=True):\n",
    "        for a, b in [ab_match for ab_match in matches \n",
    "                     if profile.margin(ab_match[0], ab_match[1])  == m]:\n",
    "            if a not in sv_winners: \n",
    "                cands_minus_b = sorted([c for c in curr_cands if c!= b])\n",
    "                if tuple(cands_minus_b) not in mem_sv_winners.keys(): \n",
    "                    ws, mem_sv_winners = stable_voting_(profile, \n",
    "                                                        curr_cands = [c for c in curr_cands if c != b],\n",
    "                                                        mem_sv_winners = mem_sv_winners)\n",
    "                    mem_sv_winners[tuple(cands_minus_b)] = ws\n",
    "                else: \n",
    "                    ws = mem_sv_winners[tuple(cands_minus_b)]\n",
    "                if a in ws:\n",
    "                    sv_winners.append(a)\n",
    "        if len(sv_winners) > 0: \n",
    "            return sorted(sv_winners), mem_sv_winners\n",
    "        \n",
    "@vm_name(\"Stable Voting\")\n",
    "def stable_voting(profile): \n",
    "    return stable_voting_(profile, curr_cands = None, mem_sv_winners = {})[0]\n"
   ]
  },
  {
   "cell_type": "markdown",
   "metadata": {},
   "source": [
    "## Example 1\n",
    "\n",
    "The following is an example with a Condorcet winner ($B$) where the Instant Runoff winner ($A$) and the Plurality winners ($A$ and $C$) are different than the SV winner ($B$). "
   ]
  },
  {
   "cell_type": "code",
   "execution_count": 42,
   "metadata": {},
   "outputs": [
    {
     "name": "stdout",
     "output_type": "stream",
     "text": [
      "+---+---+---+\n",
      "| 2 | 1 | 2 |\n",
      "+---+---+---+\n",
      "| A | B | C |\n",
      "| B | A | B |\n",
      "| C | C | A |\n",
      "+---+---+---+\n"
     ]
    },
    {
     "data": {
      "image/png": "[encoded data removed]",
      "text/plain": [
       "<Figure size 432x288 with 1 Axes>"
      ]
     },
     "metadata": {},
     "output_type": "display_data"
    },
    {
     "name": "stdout",
     "output_type": "stream",
     "text": [
      "Instant Runoff winner: A\n",
      "Plurality winners: A, C\n",
      "Stable Voting winners: A, B, C\n",
      "Simple Stable Voting winner: B\n",
      "Condorcet winner: B\n"
     ]
    }
   ],
   "source": [
    "A = 0\n",
    "B = 1 \n",
    "C = 2\n",
    "\n",
    "cmap = {A: \"A\", B: \"B\", C: \"C\" }\n",
    "prof = Profile([\n",
    "    (A, B, C),\n",
    "    (B, A, C), \n",
    "    (C, B, A)\n",
    "], 3, [2, 1, 2], cmap=cmap)\n",
    "\n",
    "prof.display()\n",
    "\n",
    "prof.display_margin_graph()\n",
    "display_winners(prof, instant_runoff)\n",
    "display_winners(prof, plurality)\n",
    "display_winners(prof, stable_voting)\n",
    "display_winners(prof, simple_stable_voting)\n",
    "display_winners(prof, condorcet)\n"
   ]
  },
  {
   "cell_type": "markdown",
   "metadata": {},
   "source": [
    "## Example 2\n",
    "\n",
    "The following is an example without a Condorcet winner where the Instant Runoff winner ($D$) and the Plurality winners ($C$ and $D$),  and the Beat Path and Ranked Pairs winners ($B$, $C$ and $D$) are all different than the SV winner ($B$). "
   ]
  },
  {
   "cell_type": "code",
   "execution_count": 43,
   "metadata": {},
   "outputs": [
    {
     "name": "stdout",
     "output_type": "stream",
     "text": [
      "+---+---+---+---+\n",
      "| 2 | 1 | 1 | 1 |\n",
      "+---+---+---+---+\n",
      "| C | D | D | B |\n",
      "| B | A | B | D |\n",
      "| A | C | A | A |\n",
      "| D | B | C | C |\n",
      "+---+---+---+---+\n"
     ]
    },
    {
     "data": {
      "image/png": "[encoded data removed]",
      "text/plain": [
       "<Figure size 432x288 with 1 Axes>"
      ]
     },
     "metadata": {},
     "output_type": "display_data"
    },
    {
     "name": "stdout",
     "output_type": "stream",
     "text": [
      "Instant Runoff winner: D\n",
      "Plurality winners: C, D\n",
      "Stable Voting winner: B\n",
      "Simple Stable Voting winner: B\n",
      "Beat Path winners: B, C, D\n",
      "Ranked Pairs winners: B, C, D\n"
     ]
    }
   ],
   "source": [
    "A = 0\n",
    "B = 1 \n",
    "C = 2\n",
    "D = 3\n",
    "\n",
    "cmap = {A: \"A\", B: \"B\", C: \"C\", D: \"D\" }\n",
    "prof = Profile([\n",
    "    (C, B, A, D),\n",
    "    (D, A, C, B), \n",
    "    (D, B, A, C),\n",
    "    (B, D, A, C)\n",
    "], 4, [2, 1, 1, 1], cmap=cmap)\n",
    "\n",
    "\n",
    "prof.display()\n",
    "\n",
    "prof.display_margin_graph()\n",
    "display_winners(prof, instant_runoff)\n",
    "display_winners(prof, plurality)\n",
    "display_winners(prof, stable_voting)\n",
    "display_winners(prof, simple_stable_voting)\n",
    "display_winners(prof, beat_path_faster)\n",
    "display_winners(prof, ranked_pairs)\n"
   ]
  },
  {
   "cell_type": "markdown",
   "metadata": {},
   "source": [
    "## Example 3\n",
    "\n",
    "A different profile generating the same margin graph as in Example 2 above. This is an example without a Condorcet winner where the Instant Runoff winner ($C$), the Plurality winners ($B$ and $C$), and the Beat Path and Ranked Pairs winners ($B$, $C$ and $D$) are all different than the SV winner ($B$)."
   ]
  },
  {
   "cell_type": "code",
   "execution_count": 44,
   "metadata": {},
   "outputs": [
    {
     "name": "stdout",
     "output_type": "stream",
     "text": [
      "+---+---+---+---+---+\n",
      "| 1 | 1 | 1 | 1 | 1 |\n",
      "+---+---+---+---+---+\n",
      "| A | B | C | C | B |\n",
      "| D | D | B | D | A |\n",
      "| C | A | D | B | D |\n",
      "| B | C | A | A | C |\n",
      "+---+---+---+---+---+\n"
     ]
    },
    {
     "data": {
      "image/png": "[encoded data removed]",
      "text/plain": [
       "<Figure size 432x288 with 1 Axes>"
      ]
     },
     "metadata": {},
     "output_type": "display_data"
    },
    {
     "name": "stdout",
     "output_type": "stream",
     "text": [
      "Instant Runoff winner: C\n",
      "Plurality winners: B, C\n",
      "Stable Voting winner: B\n",
      "Simple Stable Voting winner: B\n",
      "Beat Path winners: B, C, D\n",
      "Ranked Pairs winners: B, C, D\n"
     ]
    }
   ],
   "source": [
    "A = 0\n",
    "B = 1 \n",
    "C = 2\n",
    "D = 3\n",
    "\n",
    "cmap = {A: \"A\", B: \"B\", C: \"C\", D: \"D\" }\n",
    "prof = Profile([\n",
    "    (A, D, C, B),\n",
    "    (B, D, A, C),\n",
    "    (C, B, D, A),\n",
    "    (C, D, B, A), \n",
    "    (B, A, D, C)\n",
    "], 4, [1, 1, 1, 1, 1], cmap=cmap)\n",
    "\n",
    "prof.display()\n",
    "\n",
    "prof.display_margin_graph()\n",
    "display_winners(prof, instant_runoff)\n",
    "display_winners(prof, plurality)\n",
    "display_winners(prof, stable_voting)\n",
    "display_winners(prof, simple_stable_voting)\n",
    "display_winners(prof, beat_path_faster)\n",
    "display_winners(prof, ranked_pairs)\n"
   ]
  },
  {
   "cell_type": "markdown",
   "metadata": {},
   "source": [
    "## Example 4\n",
    "\n",
    "An example in which the Ranked Pairs winners ($D$) is different than the Beat Path winners ($A$ and $D$), and both differ from the Stable Voting winner ($A$)."
   ]
  },
  {
   "cell_type": "code",
   "execution_count": 45,
   "metadata": {},
   "outputs": [
    {
     "name": "stdout",
     "output_type": "stream",
     "text": [
      "+---+---+---+---+---+---+---+---+\n",
      "| 2 | 1 | 1 | 1 | 1 | 1 | 1 | 1 |\n",
      "+---+---+---+---+---+---+---+---+\n",
      "| D | A | B | A | D | A | C | C |\n",
      "| A | C | D | B | A | D | B | A |\n",
      "| C | B | A | D | B | C | D | B |\n",
      "| B | D | C | C | C | B | A | D |\n",
      "+---+---+---+---+---+---+---+---+\n"
     ]
    },
    {
     "data": {
      "image/png": "[encoded data removed]",
      "text/plain": [
       "<Figure size 432x288 with 1 Axes>"
      ]
     },
     "metadata": {},
     "output_type": "display_data"
    },
    {
     "name": "stdout",
     "output_type": "stream",
     "text": [
      "Instant Runoff winner: D\n",
      "Plurality winners: A, D\n",
      "Beat Path winners: A, D\n",
      "Ranked Pairs winner: D\n",
      "Stable Voting winner: A\n",
      "Simple Stable Voting winner: A\n"
     ]
    }
   ],
   "source": [
    "A = 0\n",
    "B = 1 \n",
    "C = 2\n",
    "D = 3\n",
    "\n",
    "cmap = {A: \"A\", B: \"B\", C: \"C\", D: \"D\" }\n",
    "prof = Profile([\n",
    "    (D, A, C, B),\n",
    "    (A, C, B, D), \n",
    "    (B, D, A, C),\n",
    "    (A, B, D, C), \n",
    "    (D, A, B, C), \n",
    "    (A, D, C, B), \n",
    "    (C, B, D, A), \n",
    "    (C, A, B, D)\n",
    "], 4, [2, 1, 1, 1, 1, 1, 1, 1], cmap=cmap)\n",
    "\n",
    "prof.display()\n",
    "\n",
    "prof.display_margin_graph()\n",
    "display_winners(prof, instant_runoff)\n",
    "display_winners(prof, plurality)\n",
    "display_winners(prof, beat_path_faster)\n",
    "display_winners(prof, ranked_pairs)\n",
    "display_winners(prof, stable_voting)\n",
    "display_winners(prof, simple_stable_voting)\n"
   ]
  },
  {
   "cell_type": "code",
   "execution_count": 46,
   "metadata": {},
   "outputs": [],
   "source": [
    "# This code is available in voting/voting_methods.py but is included here for reference. \n",
    "\n",
    "def simple_stable_voting_mg_(mg, curr_cands = None, mem_sv_winners = {}): \n",
    "    '''\n",
    "    Determine the Simple Stable Voting winners for the margin graph mg while keeping track \n",
    "    of the winners in any subprofiles checked during computation. \n",
    "    '''\n",
    "    \n",
    "    # curr_cands is the set of candidates who have not been removed\n",
    "    curr_cands = curr_cands if not curr_cands is None else mg.nodes \n",
    "    sv_winners = list()\n",
    "\n",
    "    matches = [(a, b) for a in curr_cands for b in curr_cands if a != b]\n",
    "    margins = list(set([get_margin(mg, a, b) for a,b in matches]))\n",
    "    \n",
    "    if len(curr_cands) == 1: \n",
    "        mem_sv_winners[tuple(curr_cands)] = curr_cands\n",
    "        return curr_cands, mem_sv_winners\n",
    "    for m in sorted(margins, reverse=True):\n",
    "        for a, b in [ab_match for ab_match in matches \n",
    "                     if get_margin(mg, ab_match[0], ab_match[1]) == m]:\n",
    "            if a not in sv_winners: \n",
    "                cands_minus_b = sorted([c for c in curr_cands if c!= b])\n",
    "                if tuple(cands_minus_b) not in mem_sv_winners.keys(): \n",
    "                    ws, mem_sv_winners = simple_stable_voting_mg_(mg, \n",
    "                                                                  curr_cands = [c for c in curr_cands if c != b],\n",
    "                                                                  mem_sv_winners = mem_sv_winners )\n",
    "                    mem_sv_winners[tuple(cands_minus_b)] = ws\n",
    "                else: \n",
    "                    ws = mem_sv_winners[tuple(cands_minus_b)]\n",
    "                if a in ws:\n",
    "                    sv_winners.append(a)\n",
    "        if len(sv_winners) > 0: \n",
    "            return sorted(sv_winners), mem_sv_winners\n",
    "                \n",
    "@vm_name(\"Simple Stable Voting\")\n",
    "def simple_stable_voting_mg(mg): \n",
    "    \n",
    "    return simple_stable_voting_mg_(mg, curr_cands = None, mem_sv_winners = {})[0]\n",
    "\n",
    "def find_undefeated_candidates_mg(mg, curr_cands = None):   \n",
    "    \"\"\"\n",
    "    A path from candidate a to candidate b is a list of candidates starting with a and ending with b \n",
    "    such that each candidate in the list has a nonzero margin vs. the next candidate in the list. \n",
    "    The strength of a path is the minimum margin between consecutive candidates in the path \n",
    "    The strength of the pair of candidates (a,b) is strength of the strongest path from a to b.   \n",
    "    We find these strengths using the Floyd-Warshall Algorithm.   \n",
    "    \n",
    "    A candidate c is undefeated if for all candidates d that is majority preferred to d, \n",
    "    the margin of c over d is greater than the strength of d to c. \n",
    "    \n",
    "    Note that this is an implementation of the Split Cycle voting method. \n",
    "    \"\"\"\n",
    "    curr_cands = curr_cands if curr_cands is not None else mg.nodes\n",
    "    margin_matrix = [[-np.inf for _ in curr_cands] for _ in curr_cands]\n",
    "    \n",
    "    for c1_idx,c1 in enumerate(curr_cands):\n",
    "        for c2_idx,c2 in enumerate(curr_cands):\n",
    "            if get_margin(mg, c1, c2) > 0 or c1 == c2:\n",
    "                margin_matrix[c1_idx][c2_idx] = get_margin(mg, c1, c2)\n",
    "\n",
    "    strength = list(map(lambda i : list(map(lambda j : j , i)) , margin_matrix))\n",
    "    for i_idx, i in enumerate(curr_cands):         \n",
    "        for j_idx, j in enumerate(curr_cands): \n",
    "            if i!= j:\n",
    "                for k_idx, k in enumerate(curr_cands): \n",
    "                    if i!= k and j != k:\n",
    "                        strength[j_idx][k_idx] = max(strength[j_idx][k_idx], min(strength[j_idx][i_idx],strength[i_idx][k_idx]))\n",
    "\n",
    "    undefeated = {i:True for i in curr_cands}\n",
    "    for i_idx, i in enumerate(curr_cands): \n",
    "        for j_idx,j in enumerate(curr_cands):\n",
    "            if i!=j:\n",
    "                if margin_matrix[j_idx][i_idx] > strength[i_idx][j_idx]: # the main difference with Beat Path\n",
    "                    undefeated[i] = False\n",
    "    return sorted([c for c in curr_cands if undefeated[c]])\n",
    "\n",
    "def stable_voting_mg_(mg, curr_cands = None, mem_sv_winners = {}): \n",
    "    '''\n",
    "    Determine the Simple Stable Voting winners for the margin graph mg while keeping track \n",
    "    of the winners in any subprofiles checked during computation. \n",
    "    '''\n",
    "    \n",
    "    # curr_cands is the set of candidates who have not been removed\n",
    "    curr_cands = curr_cands if not curr_cands is None else mg.nodes \n",
    "    sv_winners = list()\n",
    "\n",
    "    undefeated_candidates = find_undefeated_candidates_mg(mg, curr_cands = curr_cands)\n",
    "    matches = [(a, b) for a in curr_cands for b in curr_cands if a != b if a in undefeated_candidates]\n",
    "    margins = list(set([get_margin(mg, a, b) for a,b in matches]))\n",
    "    \n",
    "    if len(undefeated_candidates) == 1: \n",
    "        mem_sv_winners[tuple(curr_cands)] = curr_cands\n",
    "        return curr_cands, mem_sv_winners\n",
    "    for m in sorted(margins, reverse=True):\n",
    "        for a, b in [ab_match for ab_match in matches \n",
    "                     if get_margin(mg, ab_match[0], ab_match[1]) == m]:\n",
    "            if a not in sv_winners: \n",
    "                cands_minus_b = sorted([c for c in curr_cands if c!= b])\n",
    "                if tuple(cands_minus_b) not in mem_sv_winners.keys(): \n",
    "                    ws, mem_sv_winners = stable_voting_mg_(mg, \n",
    "                                                           curr_cands = [c for c in curr_cands if c != b],\n",
    "                                                           mem_sv_winners = mem_sv_winners )\n",
    "                    mem_sv_winners[tuple(cands_minus_b)] = ws\n",
    "                else: \n",
    "                    ws = mem_sv_winners[tuple(cands_minus_b)]\n",
    "                if a in ws:\n",
    "                    sv_winners.append(a)\n",
    "        if len(sv_winners) > 0: \n",
    "            return sorted(sv_winners), mem_sv_winners\n",
    "                \n",
    "@vm_name(\"Stable Voting\")\n",
    "def stable_voting_mg(mg): \n",
    "    \n",
    "    return stable_voting_mg_(mg, curr_cands = None, mem_sv_winners = {})[0]\n"
   ]
  },
  {
   "cell_type": "markdown",
   "metadata": {},
   "source": [
    "## Example 3.4 and 3.5 from the paper"
   ]
  },
  {
   "cell_type": "code",
   "execution_count": 47,
   "metadata": {},
   "outputs": [
    {
     "data": {
      "image/png": "[encoded data removed]",
      "text/plain": [
       "<Figure size 432x288 with 1 Axes>"
      ]
     },
     "metadata": {},
     "output_type": "display_data"
    },
    {
     "name": "stdout",
     "output_type": "stream",
     "text": [
      "Stable Voting Winners: A, B, C, D\n",
      "Simple Stable Voting Winners: A\n",
      "Beat Path Winners: A\n",
      "Ranked Pairs Winners: A\n",
      "\n"
     ]
    },
    {
     "data": {
      "image/png": "[encoded data removed]",
      "text/plain": [
       "<Figure size 432x288 with 1 Axes>"
      ]
     },
     "metadata": {},
     "output_type": "display_data"
    },
    {
     "name": "stdout",
     "output_type": "stream",
     "text": [
      "Stable Voting Winners: A\n",
      "Simple Stable Voting Winners: A\n",
      "Beat Path Winners: B\n",
      "Ranked Pairs Winners: C\n"
     ]
    }
   ],
   "source": [
    "\n",
    "\n",
    "A = \"A\"\n",
    "B = \"B\"\n",
    "C = \"C\"\n",
    "D = \"D\"\n",
    "mg = nx.DiGraph()\n",
    "mg.add_nodes_from([A, B, C, D])\n",
    "mg.add_weighted_edges_from([\n",
    "    (A, B, 6),\n",
    "    (A, D, 12),\n",
    "    (B, C, 4), \n",
    "    (C, A, 8), \n",
    "    (D, B, 2),\n",
    "    (D, C, 10)\n",
    "])\n",
    "\n",
    "display_mg(mg)\n",
    "print(\"Stable Voting Winners:\",  ', '.join(stable_voting_mg(mg)))\n",
    "print(\"Simple Stable Voting Winners:\",  ', '.join(simple_stable_voting_mg(mg)))\n",
    "print(\"Beat Path Winners:\",  ', '.join(beat_path_mg(mg)))\n",
    "print(\"Ranked Pairs Winners:\",  ', '.join(ranked_pairs_mg(mg)))\n",
    "\n",
    "print(\"\")\n",
    "\n",
    "\n",
    "A = \"A\"\n",
    "B = \"B\"\n",
    "C = \"C\"\n",
    "D = \"D\"\n",
    "E = \"E\"\n",
    "\n",
    "mg = nx.DiGraph()\n",
    "mg.add_nodes_from([A, B, C, D])\n",
    "mg.add_weighted_edges_from([\n",
    "    (A, B, 6),\n",
    "    (A, D, 12),\n",
    "    (B, C, 4), \n",
    "    (C, A, 8), \n",
    "    (D, B, 2),\n",
    "    (D, C, 10),\n",
    "    (A, E, 20), \n",
    "    (B, E, 16), \n",
    "    (C, E, 18), \n",
    "    (E, D, 14)\n",
    "])\n",
    "\n",
    "display_mg(mg)\n",
    "print(\"Stable Voting Winners:\",  ', '.join(stable_voting_mg(mg)))\n",
    "print(\"Simple Stable Voting Winners:\",  ', '.join(simple_stable_voting_mg(mg)))\n",
    "print(\"Beat Path Winners:\",  ', '.join(beat_path_mg(mg)))\n",
    "print(\"Ranked Pairs Winners:\",  ', '.join(ranked_pairs_mg(mg)))\n",
    "\n"
   ]
  },
  {
   "cell_type": "code",
   "execution_count": null,
   "metadata": {},
   "outputs": [],
   "source": []
  },
  {
   "cell_type": "code",
   "execution_count": null,
   "metadata": {},
   "outputs": [],
   "source": []
  }
 ],
 "metadata": {
  "@webio": {
   "lastCommId": null,
   "lastKernelId": null
  },
  "kernelspec": {
   "display_name": "Python 3",
   "language": "python",
   "name": "python3"
  },
  "language_info": {
   "codemirror_mode": {
    "name": "ipython",
    "version": 3
   },
   "file_extension": ".py",
   "mimetype": "text/x-python",
   "name": "python",
   "nbconvert_exporter": "python",
   "pygments_lexer": "ipython3",
   "version": "3.8.5"
  },
  "varInspector": {
   "cols": {
    "lenName": 16,
    "lenType": 16,
    "lenVar": 40
   },
   "kernels_config": {
    "python": {
     "delete_cmd_postfix": "",
     "delete_cmd_prefix": "del ",
     "library": "var_list.py",
     "varRefreshCmd": "print(var_dic_list())"
    },
    "r": {
     "delete_cmd_postfix": ") ",
     "delete_cmd_prefix": "rm(",
     "library": "var_list.r",
     "varRefreshCmd": "cat(var_dic_list()) "
    }
   },
   "types_to_exclude": [
    "module",
    "function",
    "builtin_function_or_method",
    "instance",
    "_Feature"
   ],
   "window_display": false
  }
 },
 "nbformat": 4,
 "nbformat_minor": 4
}
