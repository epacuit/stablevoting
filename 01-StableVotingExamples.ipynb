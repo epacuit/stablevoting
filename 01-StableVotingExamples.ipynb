{
 "cells": [
  {
   "cell_type": "markdown",
   "metadata": {},
   "source": [
    "# Stable Voting Examples\n",
    "\n",
    "Implementation of Simple Stable Voting and Stable Voting from the paper [Stable Voting](https://arxiv.org/abs/2108.00542) by W. Holliday and E. Pacuit.  "
   ]
  },
  {
   "cell_type": "code",
   "execution_count": 1,
   "metadata": {},
   "outputs": [],
   "source": [
    "# import the Profile class\n",
    "from pref_voting.profiles import *\n",
    "\n",
    "# import the voting methods\n",
    "from pref_voting.voting_methods import *\n",
    "\n",
    "from pref_voting.generate_profiles import *\n",
    "import math\n",
    "import pandas as pd\n",
    "from itertools import product, combinations\n",
    "\n",
    "from functools import partial\n",
    "from multiprocess import Pool, cpu_count\n",
    "import pickle\n",
    "import timeit\n"
   ]
  },
  {
   "cell_type": "markdown",
   "metadata": {},
   "source": [
    "### Simple Stable Voting \n",
    "\n",
    "Simple Stable Voting selects a winner as follows:\n",
    "\n",
    "1. If only one candidate $a$ appears on all ballots, then $a$ wins.\n",
    "2. Otherwise list all head-to-head matches of the form $a$ vs. $b$ in order from the largest to smallest margin of $a$ vs. $b$. Find the first match $a$ vs. $b$ in the list such that $a$ wins according to Simple Stable Voting *after $b$ is removed from all ballots*; this $a$ is the winner for the original set of ballots.  \n",
    "\n",
    "Note that if there are two matches $a$ vs. $b$ and $a'$ vs. $b'$ with the same margins such that $a$ wins after $b$ is removed from the ballots, and $a'$ wins after $b'$ is removed from the ballots, then $a$ and $a'$ are tied Simple Stable Voting winners for the original set of ballots.\n"
   ]
  },
  {
   "cell_type": "code",
   "execution_count": 2,
   "metadata": {},
   "outputs": [
    {
     "ename": "NameError",
     "evalue": "name 'vm_name' is not defined",
     "output_type": "error",
     "traceback": [
      "\u001b[0;31m---------------------------------------------------------------------------\u001b[0m",
      "\u001b[0;31mNameError\u001b[0m                                 Traceback (most recent call last)",
      "\u001b[0;32m<ipython-input-2-8a78bde74580>\u001b[0m in \u001b[0;36m<module>\u001b[0;34m\u001b[0m\n\u001b[1;32m     34\u001b[0m             \u001b[0;32mreturn\u001b[0m \u001b[0msorted\u001b[0m\u001b[0;34m(\u001b[0m\u001b[0msv_winners\u001b[0m\u001b[0;34m)\u001b[0m\u001b[0;34m,\u001b[0m \u001b[0mmem_sv_winners\u001b[0m\u001b[0;34m\u001b[0m\u001b[0;34m\u001b[0m\u001b[0m\n\u001b[1;32m     35\u001b[0m \u001b[0;34m\u001b[0m\u001b[0m\n\u001b[0;32m---> 36\u001b[0;31m \u001b[0;34m@\u001b[0m\u001b[0mvm_name\u001b[0m\u001b[0;34m(\u001b[0m\u001b[0;34m\"Simple Stable Voting\"\u001b[0m\u001b[0;34m)\u001b[0m\u001b[0;34m\u001b[0m\u001b[0;34m\u001b[0m\u001b[0m\n\u001b[0m\u001b[1;32m     37\u001b[0m \u001b[0;32mdef\u001b[0m \u001b[0msimple_stable_voting\u001b[0m\u001b[0;34m(\u001b[0m\u001b[0mprofile\u001b[0m\u001b[0;34m)\u001b[0m\u001b[0;34m:\u001b[0m\u001b[0;34m\u001b[0m\u001b[0;34m\u001b[0m\u001b[0m\n\u001b[1;32m     38\u001b[0m \u001b[0;34m\u001b[0m\u001b[0m\n",
      "\u001b[0;31mNameError\u001b[0m: name 'vm_name' is not defined"
     ]
    }
   ],
   "source": [
    "# This code is available in voting/voting_methods.py but is included here for reference. \n",
    "\n",
    "def simple_stable_voting_(profile, curr_cands = None, mem_sv_winners = {}): \n",
    "    '''\n",
    "    Determine the Simple Stable Voting winners for the profile while keeping track \n",
    "    of the winners in any subprofiles checked during computation. \n",
    "    '''\n",
    "    \n",
    "    # curr_cands is the set of candidates who have not been removed\n",
    "    curr_cands = curr_cands if not curr_cands is None else profile.candidates\n",
    "    sv_winners = list()\n",
    "    \n",
    "    matches = [(a, b) for a in curr_cands for b in curr_cands if a != b]\n",
    "    margins = list(set([profile.margin(a, b) for a,b in matches]))\n",
    "        \n",
    "    if len(curr_cands) == 1: \n",
    "        mem_sv_winners[tuple(curr_cands)] = curr_cands\n",
    "        return curr_cands, mem_sv_winners\n",
    "    for m in sorted(margins, reverse=True):\n",
    "        for a, b in [ab_match for ab_match in matches \n",
    "                     if profile.margin(ab_match[0], ab_match[1])  == m]:\n",
    "            if a not in sv_winners: \n",
    "                cands_minus_b = sorted([c for c in curr_cands if c!= b])\n",
    "                if tuple(cands_minus_b) not in mem_sv_winners.keys(): \n",
    "                    ws, mem_sv_winners = simple_stable_voting_(profile, \n",
    "                                                               curr_cands = [c for c in curr_cands if c != b],\n",
    "                                                               mem_sv_winners = mem_sv_winners)\n",
    "                    mem_sv_winners[tuple(cands_minus_b)] = ws\n",
    "                else: \n",
    "                    ws = mem_sv_winners[tuple(cands_minus_b)]\n",
    "                if a in ws:\n",
    "                    sv_winners.append(a)\n",
    "        if len(sv_winners) > 0: \n",
    "            return sorted(sv_winners), mem_sv_winners\n",
    "        \n",
    "@vm_name(\"Simple Stable Voting\")\n",
    "def simple_stable_voting(profile): \n",
    "    \n",
    "    return simple_stable_voting_(profile, curr_cands = None, mem_sv_winners = {})[0]\n"
   ]
  },
  {
   "cell_type": "markdown",
   "metadata": {},
   "source": [
    "### Stable Voting\n",
    "\n",
    "Stable Voting is analogously to Simple Stable Voting:\n",
    "\n",
    "1. If there is only one undefeated candidate  $a$, then $a$ wins.\n",
    "2. Otherwise list all head-to-head matches of the form $a$ vs. $b$ in order from the largest to smallest margin of $a$ vs. $b$, where $a$ is undefeated. Find the first match $a$ vs. $b$ in the list such that $a$ wins according to  Stable Voting *after $b$ is removed from all ballots*; this $a$ is the winner for the original set of ballots.  \n",
    "\n",
    "We say that $b$ *does not defeat* $a$ if we can make a list of candidates starting with $a$ and ending with $b$ such that the margin of each candidate vs. the next candidate in the list is at least the margin of $b$ vs. $a$; if there is no such list, then $b$ defeats $a$; and $a$ is undefeated if there is no $b$ that defeats $a$ (this notion of defeat is defended at length in [Axioms for Defeat in Democratic Elections](https://arxiv.org/abs/2008.08451)). \n"
   ]
  },
  {
   "cell_type": "code",
   "execution_count": 3,
   "metadata": {},
   "outputs": [
    {
     "ename": "NameError",
     "evalue": "name 'vm_name' is not defined",
     "output_type": "error",
     "traceback": [
      "\u001b[0;31m---------------------------------------------------------------------------\u001b[0m",
      "\u001b[0;31mNameError\u001b[0m                                 Traceback (most recent call last)",
      "\u001b[0;32m<ipython-input-3-35da5a65e4f4>\u001b[0m in \u001b[0;36m<module>\u001b[0;34m\u001b[0m\n\u001b[1;32m     69\u001b[0m             \u001b[0;32mreturn\u001b[0m \u001b[0msorted\u001b[0m\u001b[0;34m(\u001b[0m\u001b[0msv_winners\u001b[0m\u001b[0;34m)\u001b[0m\u001b[0;34m,\u001b[0m \u001b[0mmem_sv_winners\u001b[0m\u001b[0;34m\u001b[0m\u001b[0;34m\u001b[0m\u001b[0m\n\u001b[1;32m     70\u001b[0m \u001b[0;34m\u001b[0m\u001b[0m\n\u001b[0;32m---> 71\u001b[0;31m \u001b[0;34m@\u001b[0m\u001b[0mvm_name\u001b[0m\u001b[0;34m(\u001b[0m\u001b[0;34m\"Stable Voting\"\u001b[0m\u001b[0;34m)\u001b[0m\u001b[0;34m\u001b[0m\u001b[0;34m\u001b[0m\u001b[0m\n\u001b[0m\u001b[1;32m     72\u001b[0m \u001b[0;32mdef\u001b[0m \u001b[0mstable_voting\u001b[0m\u001b[0;34m(\u001b[0m\u001b[0mprofile\u001b[0m\u001b[0;34m)\u001b[0m\u001b[0;34m:\u001b[0m\u001b[0;34m\u001b[0m\u001b[0;34m\u001b[0m\u001b[0m\n\u001b[1;32m     73\u001b[0m     \u001b[0;32mreturn\u001b[0m \u001b[0mstable_voting_\u001b[0m\u001b[0;34m(\u001b[0m\u001b[0mprofile\u001b[0m\u001b[0;34m,\u001b[0m \u001b[0mcurr_cands\u001b[0m \u001b[0;34m=\u001b[0m \u001b[0;32mNone\u001b[0m\u001b[0;34m,\u001b[0m \u001b[0mmem_sv_winners\u001b[0m \u001b[0;34m=\u001b[0m \u001b[0;34m{\u001b[0m\u001b[0;34m}\u001b[0m\u001b[0;34m)\u001b[0m\u001b[0;34m[\u001b[0m\u001b[0;36m0\u001b[0m\u001b[0;34m]\u001b[0m\u001b[0;34m\u001b[0m\u001b[0;34m\u001b[0m\u001b[0m\n",
      "\u001b[0;31mNameError\u001b[0m: name 'vm_name' is not defined"
     ]
    }
   ],
   "source": [
    "def find_undefeated_candidates(profile, curr_cands = None):   \n",
    "    \"\"\"\n",
    "    A path from candidate a to candidate b is a list of candidates starting with a and ending with b \n",
    "    such that each candidate in the list has a nonzero margin vs. the next candidate in the list. \n",
    "    The strength of a path is the minimum margin between consecutive candidates in the path \n",
    "    The strength of the pair of candidates (a,b) is strength of the strongest path from a to b.   \n",
    "    We find these strengths using the Floyd-Warshall Algorithm.   \n",
    "    \n",
    "    A candidate c is undefeated if for all candidates d that is majority preferred to d, \n",
    "    the margin of c over d is greater than the strength of d to c. \n",
    "    \n",
    "    Note that this is an implementation of the Split Cycle voting method. \n",
    "    \"\"\"\n",
    "    curr_cands = curr_cands if curr_cands is not None else profile.candidates\n",
    "    mg = [[-np.inf for _ in curr_cands] for _ in curr_cands]\n",
    "    \n",
    "    for c1_idx,c1 in enumerate(curr_cands):\n",
    "        for c2_idx,c2 in enumerate(curr_cands):\n",
    "            if (profile.support(c1,c2) > profile.support(c2,c1) or c1 == c2):\n",
    "                mg[c1_idx][c2_idx] = profile.support(c1,c2) - profile.support(c2,c1)    \n",
    "    strength = list(map(lambda i : list(map(lambda j : j , i)) , mg))\n",
    "    for i_idx, i in enumerate(curr_cands):         \n",
    "        for j_idx, j in enumerate(curr_cands): \n",
    "            if i!= j:\n",
    "                for k_idx, k in enumerate(curr_cands): \n",
    "                    if i!= k and j != k:\n",
    "                        strength[j_idx][k_idx] = max(strength[j_idx][k_idx], min(strength[j_idx][i_idx],strength[i_idx][k_idx]))\n",
    "    undefeated = {i:True for i in curr_cands}\n",
    "    for i_idx, i in enumerate(curr_cands): \n",
    "        for j_idx,j in enumerate(curr_cands):\n",
    "            if i!=j:\n",
    "                if mg[j_idx][i_idx] > strength[i_idx][j_idx]: # the main difference with Beat Path\n",
    "                    undefeated[i] = False\n",
    "    return sorted([c for c in curr_cands if undefeated[c]])\n",
    "\n",
    "\n",
    "def stable_voting_(profile, curr_cands = None, mem_sv_winners = {}): \n",
    "    '''\n",
    "    Determine the Stable Voting winners for the profile while keeping track \n",
    "    of the winners in any subprofiles checked during computation. \n",
    "    '''\n",
    "    \n",
    "    # curr_cands is the set of candidates who have not been removed\n",
    "    curr_cands = curr_cands if not curr_cands is None else profile.candidates\n",
    "    sv_winners = list()\n",
    "    \n",
    "    undefeated_candidates = find_undefeated_candidates(profile, curr_cands = curr_cands)\n",
    "    matches = [(a, b) for a in curr_cands for b in curr_cands if a != b if a in undefeated_candidates]\n",
    "    margins = list(set([profile.margin(a, b) for a,b in matches]))\n",
    "        \n",
    "    if len(undefeated_candidates) == 1: \n",
    "        mem_sv_winners[tuple(curr_cands)] = curr_cands\n",
    "        return curr_cands, mem_sv_winners\n",
    "    for m in sorted(margins, reverse=True):\n",
    "        for a, b in [ab_match for ab_match in matches \n",
    "                     if profile.margin(ab_match[0], ab_match[1])  == m]:\n",
    "            if a not in sv_winners: \n",
    "                cands_minus_b = sorted([c for c in curr_cands if c!= b])\n",
    "                if tuple(cands_minus_b) not in mem_sv_winners.keys(): \n",
    "                    ws, mem_sv_winners = stable_voting_(profile, \n",
    "                                                        curr_cands = [c for c in curr_cands if c != b],\n",
    "                                                        mem_sv_winners = mem_sv_winners)\n",
    "                    mem_sv_winners[tuple(cands_minus_b)] = ws\n",
    "                else: \n",
    "                    ws = mem_sv_winners[tuple(cands_minus_b)]\n",
    "                if a in ws:\n",
    "                    sv_winners.append(a)\n",
    "        if len(sv_winners) > 0: \n",
    "            return sorted(sv_winners), mem_sv_winners\n",
    "        \n",
    "@vm_name(\"Stable Voting\")\n",
    "def stable_voting(profile): \n",
    "    return stable_voting_(profile, curr_cands = None, mem_sv_winners = {})[0]\n"
   ]
  },
  {
   "cell_type": "markdown",
   "metadata": {},
   "source": [
    "## Example 1\n",
    "\n",
    "The following is an example with a Condorcet winner ($B$) where the Instant Runoff winner ($A$) and the Plurality winners ($A$ and $C$) are different than the SV winner ($B$). "
   ]
  },
  {
   "cell_type": "code",
   "execution_count": 7,
   "metadata": {},
   "outputs": [
    {
     "name": "stdout",
     "output_type": "stream",
     "text": [
      "+---+---+---+\n",
      "| 2 | 1 | 2 |\n",
      "+---+---+---+\n",
      "| A | B | C |\n",
      "| B | A | B |\n",
      "| C | C | A |\n",
      "+---+---+---+\n"
     ]
    },
    {
     "data": {
      "image/png": "[encoded data removed]",
      "text/plain": [
       "<Figure size 432x288 with 1 Axes>"
      ]
     },
     "metadata": {},
     "output_type": "display_data"
    },
    {
     "name": "stdout",
     "output_type": "stream",
     "text": [
      "Instant Runoff winner is {A}\n",
      "Plurality winners are {A, C}\n",
      "Stable Voting winner is {B}\n",
      "Simple Stable Voting winner is {B}\n",
      "Condorcet winner is {B}\n"
     ]
    }
   ],
   "source": [
    "A = 0\n",
    "B = 1 \n",
    "C = 2\n",
    "\n",
    "cmap = {A: \"A\", B: \"B\", C: \"C\" }\n",
    "prof = Profile(\n",
    "    [\n",
    "        (A, B, C),\n",
    "        (B, A, C), \n",
    "        (C, B, A)\n",
    "    ], \n",
    "    rcounts = [2, 1, 2], \n",
    "    cmap=cmap\n",
    ")\n",
    "\n",
    "prof.display()\n",
    "\n",
    "prof.display_margin_graph()\n",
    "instant_runoff.display(prof)\n",
    "plurality.display(prof)\n",
    "stable_voting.display(prof)\n",
    "simple_stable_voting.display(prof)\n",
    "condorcet.display(prof)\n"
   ]
  },
  {
   "cell_type": "markdown",
   "metadata": {},
   "source": [
    "## Example 2\n",
    "\n",
    "The following is an example without a Condorcet winner where the Instant Runoff winner ($D$) and the Plurality winners ($C$ and $D$),  and the Beat Path and Ranked Pairs winners ($B$, $C$ and $D$) are all different than the SV winner ($B$). "
   ]
  },
  {
   "cell_type": "code",
   "execution_count": 8,
   "metadata": {},
   "outputs": [
    {
     "name": "stdout",
     "output_type": "stream",
     "text": [
      "+---+---+---+---+\n",
      "| 2 | 1 | 1 | 1 |\n",
      "+---+---+---+---+\n",
      "| C | D | D | B |\n",
      "| B | A | B | D |\n",
      "| A | C | A | A |\n",
      "| D | B | C | C |\n",
      "+---+---+---+---+\n"
     ]
    },
    {
     "data": {
      "image/png": "[encoded data removed]",
      "text/plain": [
       "<Figure size 432x288 with 1 Axes>"
      ]
     },
     "metadata": {},
     "output_type": "display_data"
    },
    {
     "name": "stdout",
     "output_type": "stream",
     "text": [
      "Instant Runoff winner is {D}\n",
      "Plurality winners are {C, D}\n",
      "Stable Voting winner is {B}\n",
      "Simple Stable Voting winner is {B}\n",
      "Beat Path winners are {B, C, D}\n",
      "Ranked Pairs winners are {B, C, D}\n"
     ]
    }
   ],
   "source": [
    "A = 0\n",
    "B = 1 \n",
    "C = 2\n",
    "D = 3\n",
    "\n",
    "cmap = {A: \"A\", B: \"B\", C: \"C\", D: \"D\" }\n",
    "prof = Profile(\n",
    "    [\n",
    "        (C, B, A, D),\n",
    "        (D, A, C, B), \n",
    "        (D, B, A, C),\n",
    "        (B, D, A, C)\n",
    "], \n",
    "    rcounts = [2, 1, 1, 1], \n",
    "    cmap=cmap\n",
    ")\n",
    "\n",
    "\n",
    "prof.display()\n",
    "\n",
    "prof.display_margin_graph()\n",
    "\n",
    "instant_runoff.display(prof)\n",
    "plurality.display(prof)\n",
    "stable_voting.display(prof)\n",
    "simple_stable_voting.display(prof)\n",
    "beat_path_faster.display(prof)\n",
    "ranked_pairs.display(prof)"
   ]
  },
  {
   "cell_type": "markdown",
   "metadata": {},
   "source": [
    "## Example 3\n",
    "\n",
    "A different profile generating the same margin graph as in Example 2 above. This is an example without a Condorcet winner where the Instant Runoff winner ($C$), the Plurality winners ($B$ and $C$), and the Beat Path and Ranked Pairs winners ($B$, $C$ and $D$) are all different than the SV winner ($B$)."
   ]
  },
  {
   "cell_type": "code",
   "execution_count": 9,
   "metadata": {},
   "outputs": [
    {
     "name": "stdout",
     "output_type": "stream",
     "text": [
      "+---+---+---+---+---+\n",
      "| 1 | 1 | 1 | 1 | 1 |\n",
      "+---+---+---+---+---+\n",
      "| A | B | C | C | B |\n",
      "| D | D | B | D | A |\n",
      "| C | A | D | B | D |\n",
      "| B | C | A | A | C |\n",
      "+---+---+---+---+---+\n"
     ]
    },
    {
     "data": {
      "image/png": "[encoded data removed]",
      "text/plain": [
       "<Figure size 432x288 with 1 Axes>"
      ]
     },
     "metadata": {},
     "output_type": "display_data"
    },
    {
     "name": "stdout",
     "output_type": "stream",
     "text": [
      "Instant Runoff winner is {C}\n",
      "Plurality winners are {B, C}\n",
      "Stable Voting winner is {B}\n",
      "Simple Stable Voting winner is {B}\n",
      "Beat Path winners are {B, C, D}\n",
      "Ranked Pairs winners are {B, C, D}\n"
     ]
    }
   ],
   "source": [
    "A = 0\n",
    "B = 1 \n",
    "C = 2\n",
    "D = 3\n",
    "\n",
    "cmap = {A: \"A\", B: \"B\", C: \"C\", D: \"D\" }\n",
    "prof = Profile(\n",
    "    [\n",
    "        (A, D, C, B),\n",
    "        (B, D, A, C),\n",
    "        (C, B, D, A),\n",
    "        (C, D, B, A), \n",
    "        (B, A, D, C)\n",
    "],\n",
    "    rcounts = [1, 1, 1, 1, 1], \n",
    "    cmap=cmap\n",
    ")\n",
    "\n",
    "prof.display()\n",
    "\n",
    "prof.display_margin_graph()\n",
    "\n",
    " \n",
    "instant_runoff.display(prof)\n",
    "plurality.display(prof)\n",
    "stable_voting.display(prof)\n",
    "simple_stable_voting.display(prof)\n",
    "beat_path_faster.display(prof)\n",
    "ranked_pairs.display(prof)\n",
    "\n"
   ]
  },
  {
   "cell_type": "markdown",
   "metadata": {},
   "source": [
    "## Example 4\n",
    "\n",
    "An example in which the Ranked Pairs winners ($D$) is different than the Beat Path winners ($A$ and $D$), and both differ from the Stable Voting winner ($A$)."
   ]
  },
  {
   "cell_type": "code",
   "execution_count": 10,
   "metadata": {},
   "outputs": [
    {
     "name": "stdout",
     "output_type": "stream",
     "text": [
      "+---+---+---+---+---+---+---+---+\n",
      "| 2 | 1 | 1 | 1 | 1 | 1 | 1 | 1 |\n",
      "+---+---+---+---+---+---+---+---+\n",
      "| D | A | B | A | D | A | C | C |\n",
      "| A | C | D | B | A | D | B | A |\n",
      "| C | B | A | D | B | C | D | B |\n",
      "| B | D | C | C | C | B | A | D |\n",
      "+---+---+---+---+---+---+---+---+\n"
     ]
    },
    {
     "data": {
      "image/png": "[encoded data removed]",
      "text/plain": [
       "<Figure size 432x288 with 1 Axes>"
      ]
     },
     "metadata": {},
     "output_type": "display_data"
    },
    {
     "name": "stdout",
     "output_type": "stream",
     "text": [
      "Instant Runoff winner is {D}\n",
      "Plurality winners are {A, D}\n",
      "Stable Voting winner is {A}\n",
      "Simple Stable Voting winner is {A}\n",
      "Beat Path winners are {A, D}\n",
      "Ranked Pairs winner is {D}\n"
     ]
    }
   ],
   "source": [
    "A = 0\n",
    "B = 1 \n",
    "C = 2\n",
    "D = 3\n",
    "\n",
    "cmap = {A: \"A\", B: \"B\", C: \"C\", D: \"D\" }\n",
    "prof = Profile(\n",
    "    [\n",
    "        (D, A, C, B),\n",
    "        (A, C, B, D), \n",
    "        (B, D, A, C),\n",
    "        (A, B, D, C), \n",
    "        (D, A, B, C), \n",
    "        (A, D, C, B), \n",
    "        (C, B, D, A), \n",
    "        (C, A, B, D)\n",
    "],\n",
    "    rcounts = [2, 1, 1, 1, 1, 1, 1, 1], \n",
    "    cmap=cmap\n",
    ")\n",
    "\n",
    "prof.display()\n",
    "\n",
    "prof.display_margin_graph()\n",
    "\n",
    " \n",
    "instant_runoff.display(prof)\n",
    "plurality.display(prof)\n",
    "stable_voting.display(prof)\n",
    "simple_stable_voting.display(prof)\n",
    "beat_path_faster.display(prof)\n",
    "ranked_pairs.display(prof)\n",
    "\n"
   ]
  },
  {
   "cell_type": "markdown",
   "metadata": {},
   "source": [
    "## Example 3.4 and 3.5 from the paper"
   ]
  },
  {
   "cell_type": "code",
   "execution_count": 14,
   "metadata": {},
   "outputs": [
    {
     "data": {
      "image/png": "[encoded data removed]",
      "text/plain": [
       "<Figure size 432x288 with 1 Axes>"
      ]
     },
     "metadata": {},
     "output_type": "display_data"
    },
    {
     "name": "stdout",
     "output_type": "stream",
     "text": [
      "Stable Voting winner is {A}\n",
      "Simple Stable Voting winner is {A}\n",
      "Beat Path winner is {A}\n",
      "Ranked Pairs winner is {A}\n",
      "\n"
     ]
    },
    {
     "data": {
      "image/png": "[encoded data removed]",
      "text/plain": [
       "<Figure size 432x288 with 1 Axes>"
      ]
     },
     "metadata": {},
     "output_type": "display_data"
    },
    {
     "name": "stdout",
     "output_type": "stream",
     "text": [
      "Stable Voting winner is {A}\n",
      "Simple Stable Voting winner is {A}\n",
      "Beat Path winner is {B}\n",
      "Ranked Pairs winner is {C}\n"
     ]
    }
   ],
   "source": [
    "\n",
    "A = \"A\"\n",
    "B = \"B\"\n",
    "C = \"C\"\n",
    "D = \"D\"\n",
    "E = \"E\"\n",
    "\n",
    "mg = MarginGraph(\n",
    "    [A, B, C, D],\n",
    "    [\n",
    "        (A, B, 6),\n",
    "        (A, D, 12),\n",
    "        (B, C, 4), \n",
    "        (C, A, 8), \n",
    "        (D, B, 2),\n",
    "        (D, C, 10)\n",
    "    ]\n",
    ")\n",
    "\n",
    "mg.display()\n",
    "\n",
    "stable_voting.display(mg)\n",
    "simple_stable_voting.display(mg)\n",
    "beat_path_faster.display(mg)\n",
    "ranked_pairs.display(mg)\n",
    "\n",
    "print(\"\")\n",
    "\n",
    "\n",
    "mg2 = MarginGraph(\n",
    "    [A, B, C, D, E],\n",
    "    [\n",
    "        (A, B, 6),\n",
    "        (A, D, 12),\n",
    "        (B, C, 4), \n",
    "        (C, A, 8), \n",
    "        (D, B, 2),\n",
    "        (D, C, 10),\n",
    "        (A, E, 20), \n",
    "        (B, E, 16), \n",
    "        (C, E, 18), \n",
    "        (E, D, 14)\n",
    "    ]\n",
    ")\n",
    "\n",
    "mg2.display()\n",
    "\n",
    "stable_voting.display(mg2)\n",
    "simple_stable_voting.display(mg2)\n",
    "beat_path_faster.display(mg2)\n",
    "ranked_pairs.display(mg2)\n",
    "\n"
   ]
  },
  {
   "cell_type": "code",
   "execution_count": null,
   "metadata": {},
   "outputs": [],
   "source": []
  },
  {
   "cell_type": "code",
   "execution_count": null,
   "metadata": {},
   "outputs": [],
   "source": []
  }
 ],
 "metadata": {
  "@webio": {
   "lastCommId": null,
   "lastKernelId": null
  },
  "kernelspec": {
   "display_name": "Python 3",
   "language": "python",
   "name": "python3"
  },
  "language_info": {
   "codemirror_mode": {
    "name": "ipython",
    "version": 3
   },
   "file_extension": ".py",
   "mimetype": "text/x-python",
   "name": "python",
   "nbconvert_exporter": "python",
   "pygments_lexer": "ipython3",
   "version": "3.8.5"
  },
  "varInspector": {
   "cols": {
    "lenName": 16,
    "lenType": 16,
    "lenVar": 40
   },
   "kernels_config": {
    "python": {
     "delete_cmd_postfix": "",
     "delete_cmd_prefix": "del ",
     "library": "var_list.py",
     "varRefreshCmd": "print(var_dic_list())"
    },
    "r": {
     "delete_cmd_postfix": ") ",
     "delete_cmd_prefix": "rm(",
     "library": "var_list.r",
     "varRefreshCmd": "cat(var_dic_list()) "
    }
   },
   "types_to_exclude": [
    "module",
    "function",
    "builtin_function_or_method",
    "instance",
    "_Feature"
   ],
   "window_display": false
  }
 },
 "nbformat": 4,
 "nbformat_minor": 4
}
