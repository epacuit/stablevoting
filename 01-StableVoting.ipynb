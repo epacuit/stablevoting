{
 "cells": [
  {
   "cell_type": "markdown",
   "metadata": {},
   "source": [
    "# Stable Voting\n",
    "\n",
    "Implementation of Simple Stable Voting and Stable Voting from the paper [Stable Voting](https://arxiv.org/abs/2108.00542) by W. Holliday and E. Pacuit.  "
   ]
  },
  {
   "cell_type": "code",
   "execution_count": 1,
   "metadata": {},
   "outputs": [],
   "source": [
    "# import the Profile class\n",
    "from pref_voting.profiles import *\n",
    "from pref_voting.voting_method import *\n",
    "# import the voting methods\n",
    "from pref_voting.voting_methods import *\n",
    "\n",
    "from pref_voting.generate_profiles import *\n",
    "import math\n",
    "import pandas as pd\n",
    "from itertools import product, combinations\n",
    "\n",
    "from functools import partial\n",
    "from multiprocess import Pool, cpu_count\n",
    "import pickle\n",
    "import timeit\n"
   ]
  },
  {
   "cell_type": "markdown",
   "metadata": {},
   "source": [
    "## Simple Stable Voting \n",
    "\n",
    "Simple Stable Voting selects a winner as follows:\n",
    "\n",
    "1. If only one candidate $a$ appears on all ballots, then $a$ wins.\n",
    "2. Otherwise list all head-to-head matches of the form $a$ vs. $b$ in order from the largest to smallest margin of $a$ vs. $b$. Find the first match $a$ vs. $b$ in the list such that $a$ wins according to Simple Stable Voting *after $b$ is removed from all ballots*; this $a$ is the winner for the original set of ballots.  \n",
    "\n",
    "Note that if there are two matches $a$ vs. $b$ and $a'$ vs. $b'$ with the same margins such that $a$ wins after $b$ is removed from the ballots, and $a'$ wins after $b'$ is removed from the ballots, then $a$ and $a'$ are tied Simple Stable Voting winners for the original set of ballots.\n"
   ]
  },
  {
   "cell_type": "code",
   "execution_count": 2,
   "metadata": {},
   "outputs": [],
   "source": [
    "# This code is available in pref_voting.margin_methods.py but is included here for reference. \n",
    "\n",
    "def _simple_stable_voting(edata, curr_cands = None, mem_sv_winners = {}, strength_function = None): \n",
    "\n",
    "    # curr_cands is the set of candidates who have not been removed\n",
    "    curr_cands = curr_cands if not curr_cands is None else edata.candidates \n",
    "    strength_function = edata.margin if strength_function is None else strength_function  \n",
    "    \n",
    "    sv_winners = list()\n",
    "\n",
    "    matches = [(a, b) for a in curr_cands for b in curr_cands if a != b]\n",
    "    strengths = list(set([strength_function(a, b) for a,b in matches]))\n",
    "    \n",
    "    if len(curr_cands) == 1: \n",
    "        mem_sv_winners[tuple(curr_cands)] = curr_cands\n",
    "        return curr_cands, mem_sv_winners\n",
    "    for s in sorted(strengths, reverse=True):\n",
    "        for a, b in [ab_match for ab_match in matches \n",
    "                     if strength_function(ab_match[0], ab_match[1]) == s]:\n",
    "            if a not in sv_winners: \n",
    "                cands_minus_b = [c for c in curr_cands if c!= b]\n",
    "                cands_minus_b_key = tuple(sorted(cands_minus_b))\n",
    "                if cands_minus_b_key not in mem_sv_winners.keys(): \n",
    "                    ws, mem_sv_winners = _simple_stable_voting(edata, \n",
    "                                                               curr_cands = cands_minus_b,\n",
    "                                                               mem_sv_winners = mem_sv_winners,\n",
    "                                                               strength_function = strength_function)\n",
    "                    mem_sv_winners[cands_minus_b_key] = ws\n",
    "                else: \n",
    "                    ws = mem_sv_winners[cands_minus_b_key]\n",
    "                if a in ws:\n",
    "                    sv_winners.append(a)\n",
    "        if len(sv_winners) > 0: \n",
    "            return sv_winners, mem_sv_winners\n",
    "        \n",
    "@vm(name = \"Simple Stable Voting\")\n",
    "def simple_stable_voting(edata, curr_cands = None, strength_function = None): \n",
    "    return sorted(_simple_stable_voting(edata, curr_cands = curr_cands, mem_sv_winners = {}, strength_function = strength_function)[0])\n",
    "\n"
   ]
  },
  {
   "cell_type": "markdown",
   "metadata": {},
   "source": [
    "## Stable Voting\n",
    "\n",
    "Stable Voting is analogously to Simple Stable Voting:\n",
    "\n",
    "1. If there is only one undefeated candidate  $a$, then $a$ wins.\n",
    "2. Otherwise list all head-to-head matches of the form $a$ vs. $b$ in order from the largest to smallest margin of $a$ vs. $b$, where $a$ is undefeated. Find the first match $a$ vs. $b$ in the list such that $a$ wins according to  Stable Voting *after $b$ is removed from all ballots*; this $a$ is the winner for the original set of ballots.  \n",
    "\n",
    "We say that $b$ *does not defeat* $a$ if we can make a list of candidates starting with $a$ and ending with $b$ such that the margin of each candidate vs. the next candidate in the list is at least the margin of $b$ vs. $a$; if there is no such list, then $b$ defeats $a$; and $a$ is undefeated if there is no $b$ that defeats $a$ (this notion of defeat is defended at length in [Axioms for Defeat in Democratic Elections](https://arxiv.org/abs/2008.08451)). \n"
   ]
  },
  {
   "cell_type": "code",
   "execution_count": 3,
   "metadata": {},
   "outputs": [],
   "source": [
    "def find_undefeated_candidates(edata, curr_cands = None):   \n",
    "    \"\"\"\n",
    "    A path from candidate a to candidate b is a list of candidates starting with a and ending with b \n",
    "    such that each candidate in the list has a nonzero margin vs. the next candidate in the list. \n",
    "    The strength of a path is the minimum margin between consecutive candidates in the path \n",
    "    The strength of the pair of candidates (a,b) is strength of the strongest path from a to b.   \n",
    "    We find these strengths using the Floyd-Warshall Algorithm.   \n",
    "    \n",
    "    A candidate c is undefeated if for all candidates d that are majority preferred to c, \n",
    "    the strength of the strongest path from c to d is at least the margin of d over c. \n",
    "    \n",
    "    Note that this is an implementation of the Split Cycle voting method. \n",
    "    \"\"\"\n",
    "    curr_cands = curr_cands if curr_cands is not None else edata.candidates\n",
    "    mg = [[-np.inf for _ in curr_cands] for _ in curr_cands]\n",
    "    for c1_idx,c1 in enumerate(curr_cands):\n",
    "        for c2_idx,c2 in enumerate(curr_cands):\n",
    "            if edata.margin(c1,c2) > 0:\n",
    "                mg[c1_idx][c2_idx] = edata.margin(c1, c2)   \n",
    "\n",
    "    # initial strength to mg\n",
    "    strength = list(map(lambda i : list(map(lambda j : j , i)) , mg))\n",
    "    \n",
    "    for i_idx, i in enumerate(curr_cands):         \n",
    "        for j_idx, j in enumerate(curr_cands): \n",
    "            if i != j:\n",
    "                for k_idx, k in enumerate(curr_cands): \n",
    "                    if i!= k and j != k:\n",
    "                        strength[j_idx][k_idx] = max(strength[j_idx][k_idx], min(strength[j_idx][i_idx], strength[i_idx][k_idx]))\n",
    "    undefeated = {i:True for i in curr_cands}\n",
    "    for i_idx, i in enumerate(curr_cands): \n",
    "        for j_idx,j in enumerate(curr_cands):\n",
    "            if i != j:\n",
    "                if mg[j_idx][i_idx] > strength[i_idx][j_idx]: # the main difference with Beat Path\n",
    "                    undefeated[i] = False\n",
    "    return sorted([c for c in curr_cands if undefeated[c]])\n",
    "\n",
    "\n",
    "    \n",
    "def _stable_voting(edata, curr_cands = None, mem_sv_winners = {}, strength_function = None): \n",
    "\n",
    "    # curr_cands is the set of candidates who have not been removed\n",
    "    curr_cands = curr_cands if not curr_cands is None else edata.candidates\n",
    "    strength_function = edata.margin if strength_function is None else strength_function  \n",
    "\n",
    "    sv_winners = list()\n",
    "    \n",
    "    undefeated_candidates = find_undefeated_candidates(edata, curr_cands = curr_cands)\n",
    "    matches = [(a, b) for a in curr_cands for b in curr_cands if a != b if a in undefeated_candidates]\n",
    "    strengths = list(set([strength_function(a, b) for a,b in matches]))\n",
    "        \n",
    "    if len(curr_cands) == 1: \n",
    "        mem_sv_winners[tuple(curr_cands)] = curr_cands\n",
    "        return curr_cands, mem_sv_winners\n",
    "    for s in sorted(strengths, reverse=True):\n",
    "        for a, b in [ab_match for ab_match in matches \n",
    "                     if strength_function(ab_match[0], ab_match[1])  == s]:\n",
    "            if a not in sv_winners: \n",
    "                cands_minus_b = [c for c in curr_cands if c!= b]\n",
    "                cands_minus_b_key = tuple(sorted(cands_minus_b))\n",
    "                if cands_minus_b_key not in mem_sv_winners.keys(): \n",
    "                    ws, mem_sv_winners = _stable_voting(edata, \n",
    "                                                        curr_cands = cands_minus_b, \n",
    "                                                        mem_sv_winners = mem_sv_winners, \n",
    "                                                        strength_function = strength_function)\n",
    "                    mem_sv_winners[cands_minus_b_key] = ws\n",
    "                else: \n",
    "                    ws = mem_sv_winners[cands_minus_b_key]\n",
    "                if a in ws:\n",
    "                    sv_winners.append(a)\n",
    "        if len(sv_winners) > 0: \n",
    "            return sv_winners, mem_sv_winners\n",
    "        \n",
    "@vm(name = \"Stable Voting\")\n",
    "def stable_voting(edata, curr_cands = None, strength_function = None): \n",
    "    return sorted(_stable_voting(edata, curr_cands = curr_cands, mem_sv_winners = {}, strength_function = strength_function)[0])"
   ]
  },
  {
   "cell_type": "markdown",
   "metadata": {},
   "source": [
    "## Stable Voting\n",
    "\n",
    "The following examples (not included in the paper) illustrate (simple) stable voting.  For the examples in the paper see the notebook StableVotingExamples.ipynb. "
   ]
  },
  {
   "cell_type": "markdown",
   "metadata": {},
   "source": [
    "### Example A\n",
    "\n",
    "The following is an example with a Condorcet winner ($B$) where the Instant Runoff winner ($A$) and the Plurality winners ($A$ and $C$) are different than the SV winner ($B$). "
   ]
  },
  {
   "cell_type": "code",
   "execution_count": 4,
   "metadata": {},
   "outputs": [
    {
     "name": "stdout",
     "output_type": "stream",
     "text": [
      "+---+---+---+\n",
      "| 2 | 1 | 2 |\n",
      "+---+---+---+\n",
      "| A | B | C |\n",
      "| B | A | B |\n",
      "| C | C | A |\n",
      "+---+---+---+\n"
     ]
    },
    {
     "data": {
      "image/png": "[encoded data removed]",
      "text/plain": [
       "<Figure size 640x480 with 1 Axes>"
      ]
     },
     "metadata": {},
     "output_type": "display_data"
    },
    {
     "name": "stdout",
     "output_type": "stream",
     "text": [
      "Instant Runoff winner is {A}\n",
      "Plurality winners are {A, C}\n",
      "Stable Voting winner is {B}\n",
      "Simple Stable Voting winner is {B}\n",
      "Condorcet winner is {B}\n"
     ]
    }
   ],
   "source": [
    "A = 0\n",
    "B = 1 \n",
    "C = 2\n",
    "\n",
    "cmap = {A: \"A\", B: \"B\", C: \"C\" }\n",
    "prof = Profile(\n",
    "    [\n",
    "        (A, B, C),\n",
    "        (B, A, C), \n",
    "        (C, B, A)\n",
    "    ], \n",
    "    rcounts = [2, 1, 2], \n",
    "    cmap=cmap\n",
    ")\n",
    "\n",
    "prof.display()\n",
    "\n",
    "prof.display_margin_graph()\n",
    "instant_runoff.display(prof)\n",
    "plurality.display(prof)\n",
    "stable_voting.display(prof)\n",
    "simple_stable_voting.display(prof)\n",
    "condorcet.display(prof)\n"
   ]
  },
  {
   "cell_type": "markdown",
   "metadata": {},
   "source": [
    "### Example B\n",
    "\n",
    "The following is an example without a Condorcet winner where the Instant Runoff winner ($D$) and the Plurality winners ($C$ and $D$),  and the Beat Path and Ranked Pairs winners ($B$, $C$ and $D$) are all different than the SV winner ($B$). "
   ]
  },
  {
   "cell_type": "code",
   "execution_count": 5,
   "metadata": {},
   "outputs": [
    {
     "name": "stdout",
     "output_type": "stream",
     "text": [
      "+---+---+---+---+\n",
      "| 2 | 1 | 1 | 1 |\n",
      "+---+---+---+---+\n",
      "| C | D | D | B |\n",
      "| B | A | B | D |\n",
      "| A | C | A | A |\n",
      "| D | B | C | C |\n",
      "+---+---+---+---+\n"
     ]
    },
    {
     "data": {
      "image/png": "[encoded data removed]",
      "text/plain": [
       "<Figure size 640x480 with 1 Axes>"
      ]
     },
     "metadata": {},
     "output_type": "display_data"
    },
    {
     "name": "stdout",
     "output_type": "stream",
     "text": [
      "Instant Runoff winner is {D}\n",
      "Plurality winners are {C, D}\n",
      "Stable Voting winner is {B}\n",
      "Simple Stable Voting winner is {B}\n",
      "Beat Path winners are {B, C, D}\n",
      "Ranked Pairs winners are {B, C, D}\n"
     ]
    }
   ],
   "source": [
    "A = 0\n",
    "B = 1 \n",
    "C = 2\n",
    "D = 3\n",
    "\n",
    "cmap = {A: \"A\", B: \"B\", C: \"C\", D: \"D\" }\n",
    "prof = Profile(\n",
    "    [\n",
    "        (C, B, A, D),\n",
    "        (D, A, C, B), \n",
    "        (D, B, A, C),\n",
    "        (B, D, A, C)\n",
    "], \n",
    "    rcounts = [2, 1, 1, 1], \n",
    "    cmap=cmap\n",
    ")\n",
    "\n",
    "\n",
    "prof.display()\n",
    "\n",
    "prof.display_margin_graph()\n",
    "\n",
    "instant_runoff.display(prof)\n",
    "plurality.display(prof)\n",
    "stable_voting.display(prof)\n",
    "simple_stable_voting.display(prof)\n",
    "beat_path_faster.display(prof)\n",
    "ranked_pairs.display(prof)"
   ]
  },
  {
   "cell_type": "markdown",
   "metadata": {},
   "source": [
    "### Example C\n",
    "\n",
    "A different profile generating the same margin graph as in Example 2 above. This is an example without a Condorcet winner where the Instant Runoff winner ($C$), the Plurality winners ($B$ and $C$), and the Beat Path and Ranked Pairs winners ($B$, $C$ and $D$) are all different than the SV winner ($B$)."
   ]
  },
  {
   "cell_type": "code",
   "execution_count": 6,
   "metadata": {},
   "outputs": [
    {
     "name": "stdout",
     "output_type": "stream",
     "text": [
      "+---+---+---+---+---+\n",
      "| 1 | 1 | 1 | 1 | 1 |\n",
      "+---+---+---+---+---+\n",
      "| A | B | C | C | B |\n",
      "| D | D | B | D | A |\n",
      "| C | A | D | B | D |\n",
      "| B | C | A | A | C |\n",
      "+---+---+---+---+---+\n"
     ]
    },
    {
     "data": {
      "image/png": "[encoded data removed]",
      "text/plain": [
       "<Figure size 640x480 with 1 Axes>"
      ]
     },
     "metadata": {},
     "output_type": "display_data"
    },
    {
     "name": "stdout",
     "output_type": "stream",
     "text": [
      "Instant Runoff winner is {C}\n",
      "Plurality winners are {B, C}\n",
      "Stable Voting winner is {B}\n",
      "Simple Stable Voting winner is {B}\n",
      "Beat Path winners are {B, C, D}\n",
      "Ranked Pairs winners are {B, C, D}\n"
     ]
    }
   ],
   "source": [
    "A = 0\n",
    "B = 1 \n",
    "C = 2\n",
    "D = 3\n",
    "\n",
    "cmap = {A: \"A\", B: \"B\", C: \"C\", D: \"D\" }\n",
    "prof = Profile(\n",
    "    [\n",
    "        (A, D, C, B),\n",
    "        (B, D, A, C),\n",
    "        (C, B, D, A),\n",
    "        (C, D, B, A), \n",
    "        (B, A, D, C)\n",
    "],\n",
    "    rcounts = [1, 1, 1, 1, 1], \n",
    "    cmap=cmap\n",
    ")\n",
    "\n",
    "prof.display()\n",
    "\n",
    "prof.display_margin_graph()\n",
    "\n",
    " \n",
    "instant_runoff.display(prof)\n",
    "plurality.display(prof)\n",
    "stable_voting.display(prof)\n",
    "simple_stable_voting.display(prof)\n",
    "beat_path_faster.display(prof)\n",
    "ranked_pairs.display(prof)\n",
    "\n"
   ]
  },
  {
   "cell_type": "markdown",
   "metadata": {},
   "source": [
    "### Example D\n",
    "\n",
    "An example in which the Ranked Pairs winners ($D$) is different than the Beat Path winners ($A$ and $D$), and both differ from the Stable Voting winner ($A$)."
   ]
  },
  {
   "cell_type": "code",
   "execution_count": 7,
   "metadata": {},
   "outputs": [
    {
     "name": "stdout",
     "output_type": "stream",
     "text": [
      "+---+---+---+---+---+---+---+---+\n",
      "| 2 | 1 | 1 | 1 | 1 | 1 | 1 | 1 |\n",
      "+---+---+---+---+---+---+---+---+\n",
      "| D | A | B | A | D | A | C | C |\n",
      "| A | C | D | B | A | D | B | A |\n",
      "| C | B | A | D | B | C | D | B |\n",
      "| B | D | C | C | C | B | A | D |\n",
      "+---+---+---+---+---+---+---+---+\n"
     ]
    },
    {
     "data": {
      "image/png": "[encoded data removed]",
      "text/plain": [
       "<Figure size 640x480 with 1 Axes>"
      ]
     },
     "metadata": {},
     "output_type": "display_data"
    },
    {
     "name": "stdout",
     "output_type": "stream",
     "text": [
      "Instant Runoff winner is {D}\n",
      "Plurality winners are {A, D}\n",
      "Stable Voting winner is {A}\n",
      "Simple Stable Voting winner is {A}\n",
      "Beat Path winners are {A, D}\n",
      "Ranked Pairs winner is {D}\n"
     ]
    }
   ],
   "source": [
    "A = 0\n",
    "B = 1 \n",
    "C = 2\n",
    "D = 3\n",
    "\n",
    "cmap = {A: \"A\", B: \"B\", C: \"C\", D: \"D\" }\n",
    "prof = Profile(\n",
    "    [\n",
    "        (D, A, C, B),\n",
    "        (A, C, B, D), \n",
    "        (B, D, A, C),\n",
    "        (A, B, D, C), \n",
    "        (D, A, B, C), \n",
    "        (A, D, C, B), \n",
    "        (C, B, D, A), \n",
    "        (C, A, B, D)\n",
    "],\n",
    "    rcounts = [2, 1, 1, 1, 1, 1, 1, 1], \n",
    "    cmap=cmap\n",
    ")\n",
    "\n",
    "prof.display()\n",
    "\n",
    "prof.display_margin_graph()\n",
    "\n",
    " \n",
    "instant_runoff.display(prof)\n",
    "plurality.display(prof)\n",
    "stable_voting.display(prof)\n",
    "simple_stable_voting.display(prof)\n",
    "beat_path_faster.display(prof)\n",
    "ranked_pairs.display(prof)\n",
    "\n"
   ]
  },
  {
   "cell_type": "code",
   "execution_count": null,
   "metadata": {},
   "outputs": [],
   "source": []
  }
 ],
 "metadata": {
  "@webio": {
   "lastCommId": null,
   "lastKernelId": null
  },
  "kernelspec": {
   "display_name": "Python 3",
   "language": "python",
   "name": "python3"
  },
  "language_info": {
   "codemirror_mode": {
    "name": "ipython",
    "version": 3
   },
   "file_extension": ".py",
   "mimetype": "text/x-python",
   "name": "python",
   "nbconvert_exporter": "python",
   "pygments_lexer": "ipython3",
   "version": "3.10.8"
  },
  "varInspector": {
   "cols": {
    "lenName": 16,
    "lenType": 16,
    "lenVar": 40
   },
   "kernels_config": {
    "python": {
     "delete_cmd_postfix": "",
     "delete_cmd_prefix": "del ",
     "library": "var_list.py",
     "varRefreshCmd": "print(var_dic_list())"
    },
    "r": {
     "delete_cmd_postfix": ") ",
     "delete_cmd_prefix": "rm(",
     "library": "var_list.r",
     "varRefreshCmd": "cat(var_dic_list()) "
    }
   },
   "types_to_exclude": [
    "module",
    "function",
    "builtin_function_or_method",
    "instance",
    "_Feature"
   ],
   "window_display": false
  },
  "vscode": {
   "interpreter": {
    "hash": "b0fa6594d8f4cbf19f97940f81e996739fb7646882a419484c72d19e05852a7e"
   }
  }
 },
 "nbformat": 4,
 "nbformat_minor": 4
}
